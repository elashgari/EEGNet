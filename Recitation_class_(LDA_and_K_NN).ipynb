{
  "nbformat": 4,
  "nbformat_minor": 0,
  "metadata": {
    "colab": {
      "name": "Recitation class (LDA and K-NN).ipynb",
      "provenance": [],
      "authorship_tag": "ABX9TyNlpMJFObgx/HqPKmGEfEB2",
      "include_colab_link": true
    },
    "kernelspec": {
      "name": "python3",
      "display_name": "Python 3"
    },
    "language_info": {
      "name": "python"
    }
  },
  "cells": [
    {
      "cell_type": "markdown",
      "metadata": {
        "id": "view-in-github",
        "colab_type": "text"
      },
      "source": [
        "<a href=\"https://colab.research.google.com/github/elashgari/EEGNet/blob/master/Recitation_class_(LDA_and_K_NN).ipynb\" target=\"_parent\"><img src=\"https://colab.research.google.com/assets/colab-badge.svg\" alt=\"Open In Colab\"/></a>"
      ]
    },
    {
      "cell_type": "markdown",
      "metadata": {
        "id": "OYsdOtJ59KoL"
      },
      "source": [
        "## K-NN\n",
        "#Pros:\n",
        "* No assumptions about data — useful, for example, for nonlinear data\n",
        "* Simple algorithm — to explain and understand/interpret\n",
        "* High accuracy (relatively) — it is pretty high but not competitive in comparison to better supervised learning models\n",
        "* useful for classification or regression\n",
        "\n",
        "#Cons:\n",
        "* Computationally expensive — because the algorithm stores all of \n",
        "the training data\n",
        "* High memory requirement\n",
        "* Prediction stage might be slow (with big N)\n",
        "* Sensitive to many features and the scale of the data"
      ]
    },
    {
      "cell_type": "markdown",
      "metadata": {
        "id": "YuTMcSKg9Eep"
      },
      "source": [
        ""
      ]
    },
    {
      "cell_type": "code",
      "metadata": {
        "id": "7kOW0Z2S_2oj"
      },
      "source": [
        "# import the iris dataset"
      ],
      "execution_count": null,
      "outputs": []
    }
  ]
}