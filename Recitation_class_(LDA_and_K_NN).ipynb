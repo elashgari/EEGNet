{
  "nbformat": 4,
  "nbformat_minor": 0,
  "metadata": {
    "colab": {
      "name": "Recitation class (LDA and K-NN).ipynb",
      "provenance": [],
      "authorship_tag": "ABX9TyNxQRHg0Jw8QoV7CtrEacPD",
      "include_colab_link": true
    },
    "kernelspec": {
      "name": "python3",
      "display_name": "Python 3"
    },
    "language_info": {
      "name": "python"
    }
  },
  "cells": [
    {
      "cell_type": "markdown",
      "metadata": {
        "id": "view-in-github",
        "colab_type": "text"
      },
      "source": [
        "<a href=\"https://colab.research.google.com/github/elashgari/EEGNet/blob/master/Recitation_class_(LDA_and_K_NN).ipynb\" target=\"_parent\"><img src=\"https://colab.research.google.com/assets/colab-badge.svg\" alt=\"Open In Colab\"/></a>"
      ]
    },
    {
      "cell_type": "markdown",
      "metadata": {
        "id": "OYsdOtJ59KoL"
      },
      "source": [
        "## K-NN\n",
        "#Pros:\n",
        "* No assumptions about data — useful, for example, for nonlinear data\n",
        "* Simple algorithm — to explain and understand/interpret\n",
        "* High accuracy (relatively) — it is pretty high but not competitive in comparison to better supervised learning models\n",
        "* useful for classification or regression\n",
        "\n",
        "#Cons:\n",
        "* Computationally expensive — because the algorithm stores all of \n",
        "the training data\n",
        "* High memory requirement\n",
        "* Prediction stage might be slow (with big N)\n",
        "* Sensitive to many features and the scale of the data"
      ]
    },
    {
      "cell_type": "markdown",
      "metadata": {
        "id": "YuTMcSKg9Eep"
      },
      "source": [
        ""
      ]
    },
    {
      "cell_type": "code",
      "metadata": {
        "colab": {
          "base_uri": "https://localhost:8080/"
        },
        "id": "7kOW0Z2S_2oj",
        "outputId": "c9f8f14f-17f8-4bb8-c73d-b38879784234"
      },
      "source": [
        "# import the iris dataset\n",
        "\n",
        "from sklearn.datasets import load_iris\n",
        "iris = load_iris()\n",
        "print(iris.data.shape)\n",
        "iris.data\n",
        "print(iris.feature_names)\n",
        "# print(iris.target)\n",
        "print(iris.target_names) # 3 classes"
      ],
      "execution_count": 13,
      "outputs": [
        {
          "output_type": "stream",
          "text": [
            "(150, 4)\n",
            "['sepal length (cm)', 'sepal width (cm)', 'petal length (cm)', 'petal width (cm)']\n",
            "['setosa' 'versicolor' 'virginica']\n"
          ],
          "name": "stdout"
        }
      ]
    },
    {
      "cell_type": "code",
      "metadata": {
        "colab": {
          "base_uri": "https://localhost:8080/"
        },
        "id": "sYmMjGO8AszJ",
        "outputId": "6bfdeed1-d76c-4f66-bb94-eb438e3efb53"
      },
      "source": [
        "# splitting the data into training and test sets(80:20)\n",
        "X, y = load_iris(return_X_y=True)\n",
        "from sklearn.model_selection import train_test_split\n",
        "X_train, X_test, y_train, y_test = train_test_split(X, y, test_size=0.2, random_state=4)\n",
        "\n",
        "print(X_train.shape, y_train.shape)\n",
        "\n",
        "print(X_test.shape, y_test.shape)\n"
      ],
      "execution_count": 36,
      "outputs": [
        {
          "output_type": "stream",
          "text": [
            "(120, 4) (120,)\n",
            "(30, 4) (30,)\n"
          ],
          "name": "stdout"
        }
      ]
    },
    {
      "cell_type": "code",
      "metadata": {
        "colab": {
          "base_uri": "https://localhost:8080/"
        },
        "id": "4CYIoVGeCX8i",
        "outputId": "063fb102-0cc7-4b1c-e5d2-b09109caa17a"
      },
      "source": [
        "# import the K-NN classifier from sklearn\n",
        "from sklearn.neighbors import KNeighborsClassifier\n",
        "\n",
        "# import metrics model to check the accuracy\n",
        "from sklearn import metrics\n",
        "\n",
        "# train and test k-NN classifier\n",
        "knn = KNeighborsClassifier(n_neighbors=4)\n",
        "knn.fit(X_train, y_train)\n",
        "\n",
        "y_pred = knn.predict(X_test)\n",
        "score = metrics.accuracy_score(y_test, y_pred)\n",
        "print(score)"
      ],
      "execution_count": 37,
      "outputs": [
        {
          "output_type": "stream",
          "text": [
            "0.9666666666666667\n"
          ],
          "name": "stdout"
        }
      ]
    },
    {
      "cell_type": "markdown",
      "metadata": {
        "id": "or_OsGy8F8CB"
      },
      "source": [
        "## How we can select the hyperparameter(k)?"
      ]
    },
    {
      "cell_type": "code",
      "metadata": {
        "id": "Qv6Z4Z6vFfWJ"
      },
      "source": [
        "k_range = range(1,25)\n",
        "scores = {}\n",
        "scores_list = []\n",
        "for k in k_range:\n",
        "  knn = KNeighborsClassifier(n_neighbors = k)\n",
        "  knn.fit(X_train, y_train)\n",
        "  y_pred = knn.predict(X_test)\n",
        "  scores[k] = metrics.accuracy_score(y_test, y_pred)\n",
        "  scores_list.append(metrics.accuracy_score(y_test, y_pred))\n",
        "\n"
      ],
      "execution_count": 42,
      "outputs": []
    },
    {
      "cell_type": "code",
      "metadata": {
        "colab": {
          "base_uri": "https://localhost:8080/",
          "height": 296
        },
        "id": "HSgU64bUHFDX",
        "outputId": "fa26cb88-3a97-4415-e1ad-645089ee7079"
      },
      "source": [
        "%matplotlib inline\n",
        "import matplotlib.pyplot as plt\n",
        "\n",
        "plt.plot(k_range, scores_list)\n",
        "plt.xlabel('Value of K for KNN')\n",
        "plt.ylabel('testing accuracy')"
      ],
      "execution_count": 43,
      "outputs": [
        {
          "output_type": "execute_result",
          "data": {
            "text/plain": [
              "Text(0, 0.5, 'testing accuracy')"
            ]
          },
          "metadata": {
            "tags": []
          },
          "execution_count": 43
        },
        {
          "output_type": "display_data",
          "data": {
            "image/png": "[encoded data removed]",
            "text/plain": [
              "<Figure size 432x288 with 1 Axes>"
            ]
          },
          "metadata": {
            "tags": [],
            "needs_background": "light"
          }
        }
      ]
    },
    {
      "cell_type": "code",
      "metadata": {
        "id": "FvJb5pHGHFQE"
      },
      "source": [
        ""
      ],
      "execution_count": null,
      "outputs": []
    },
    {
      "cell_type": "code",
      "metadata": {
        "id": "tFjITkD3HFUm"
      },
      "source": [
        "https://towardsdatascience.com/knn-in-python-835643e2fb53"
      ],
      "execution_count": null,
      "outputs": []
    }
  ]
}