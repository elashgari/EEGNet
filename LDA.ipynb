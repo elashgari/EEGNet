{
  "nbformat": 4,
  "nbformat_minor": 0,
  "metadata": {
    "colab": {
      "name": "LDA.ipynb",
      "provenance": [],
      "toc_visible": true,
      "authorship_tag": "ABX9TyPy8O0gvJKBhIdEu3m+SPIB",
      "include_colab_link": true
    },
    "kernelspec": {
      "name": "python3",
      "display_name": "Python 3"
    },
    "language_info": {
      "name": "python"
    }
  },
  "cells": [
    {
      "cell_type": "markdown",
      "metadata": {
        "id": "view-in-github",
        "colab_type": "text"
      },
      "source": [
        "<a href=\"https://colab.research.google.com/github/elashgari/EEGNet/blob/master/LDA.ipynb\" target=\"_parent\"><img src=\"https://colab.research.google.com/assets/colab-badge.svg\" alt=\"Open In Colab\"/></a>"
      ]
    },
    {
      "cell_type": "markdown",
      "metadata": {
        "id": "PRPiufaAXiQm"
      },
      "source": [
        "## **CS 530 Data Mining In-Class**"
      ]
    },
    {
      "cell_type": "code",
      "metadata": {
        "id": "32-EdX5CXhAd"
      },
      "source": [
        "# load and visualize the dataset\n",
        "import matplotlib.pyplot as plt\n",
        "from sklearn import datasets, svm, metrics\n",
        "%matplotlib inline\n",
        "\n",
        "digits = datasets.load_digits()\n",
        "\n",
        "images_and_labels = list(zip(digits.images, digits.target))\n",
        "for index, (image, label) in enumerate(images_and_labels[:4]):\n",
        "    plt.subplot(2, 4, index + 1)\n",
        "    plt.axis('off')\n",
        "    plt.imshow(image, cmap=plt.cm.gray_r, interpolation='nearest')\n",
        "    plt.title('Training: %i' % label)\n",
        "    plt.tight_layout()\n",
        "    \n",
        "X = digits.data\n",
        "y = digits.target\n",
        "target_names = digits.target_names"
      ],
      "execution_count": null,
      "outputs": []
    },
    {
      "cell_type": "code",
      "metadata": {
        "id": "hBFggztcY52T"
      },
      "source": [
        "X.shape, y.shape"
      ],
      "execution_count": null,
      "outputs": []
    },
    {
      "cell_type": "markdown",
      "metadata": {
        "id": "13Y1VzJsYjWv"
      },
      "source": [
        "In this question we have 1797 samples for ten different digits, i.e.,0 to 9, using 64 variables (8 x 8 images). We visualized some of the training images above.\n",
        "\n",
        "a) Try to train an LDA classifier on the first half of the data (You can use **sklearn.discriminant_analysis** package)"
      ]
    },
    {
      "cell_type": "code",
      "metadata": {
        "id": "fhqKVxsqYCRU"
      },
      "source": [
        "from sklearn.discriminant_analysis import LinearDiscriminantAnalysis\n",
        "# Create a classifier: a Fisher's LDA classifier\n",
        "\n",
        "\n",
        "# Train lda on the first half of the digits\n",
        "\n",
        "\n",
        "# Apply the tranformation to all the data (X) and name it X_r_lda\n",
        "\n",
        "\n"
      ],
      "execution_count": null,
      "outputs": []
    },
    {
      "cell_type": "markdown",
      "metadata": {
        "id": "2g7l0l3WeXzF"
      },
      "source": [
        "b. The below plot allows us to interpret the trained LDA classifier.\n",
        "We keep the top four coordinates and the transformed data are shown. What do you conclude from these plots?"
      ]
    },
    {
      "cell_type": "code",
      "metadata": {
        "id": "VrPB-GHIaEwF"
      },
      "source": [
        "# Visualize transformed data on learnt discriminant coordinates\n",
        "with plt.style.context('seaborn-talk'):\n",
        "    fig, axes = plt.subplots(1,2,figsize=[13,6])\n",
        "    for i, target_name in zip([0,1,2,3,4,5,6,7,8,9], target_names):\n",
        "        axes[0].scatter(X_r_lda[y == i, 0], X_r_lda[y == i, 1], alpha=.8,\n",
        "                        label=target_name, marker='$%.f$'%i)\n",
        "        axes[1].scatter(X_r_lda[y == i, 2], X_r_lda[y == i, 3], alpha=.8,\n",
        "                        label=target_name, marker='$%.f$'%i)\n",
        "    axes[0].set_xlabel('Discriminant Coordinate 1')\n",
        "    axes[0].set_ylabel('Discriminant Coordinate 2')\n",
        "    axes[1].set_xlabel('Discriminant Coordinate 3')\n",
        "    axes[1].set_ylabel('Discriminant Coordinate 4')\n",
        "    plt.tight_layout()"
      ],
      "execution_count": null,
      "outputs": []
    },
    {
      "cell_type": "markdown",
      "metadata": {
        "id": "FJ-looFYfYrT"
      },
      "source": [
        "c. Now test the trained classifier on the other half of dataset."
      ]
    },
    {
      "cell_type": "code",
      "metadata": {
        "id": "MA4JkCbOd_Bh"
      },
      "source": [
        "# your code here\n",
        "\n",
        "yhat = \n"
      ],
      "execution_count": null,
      "outputs": []
    },
    {
      "cell_type": "markdown",
      "metadata": {
        "id": "aawJi0qtid8i"
      },
      "source": [
        "d. Report the classification results for each class \n",
        "(Hint: from sklearn.metrics import classification_report)"
      ]
    },
    {
      "cell_type": "code",
      "metadata": {
        "id": "BYAvy3v8ggPh"
      },
      "source": [
        "from sklearn.metrics import classification_report\n",
        "\n",
        "\n"
      ],
      "execution_count": null,
      "outputs": []
    },
    {
      "cell_type": "code",
      "metadata": {
        "id": "_HkS0ABXh5IE"
      },
      "source": [
        ""
      ],
      "execution_count": null,
      "outputs": []
    }
  ]
}