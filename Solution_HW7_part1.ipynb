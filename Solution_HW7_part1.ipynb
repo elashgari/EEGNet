{
  "nbformat": 4,
  "nbformat_minor": 0,
  "metadata": {
    "colab": {
      "name": "3/15_breakout.ipynb",
      "provenance": [],
      "collapsed_sections": [],
      "include_colab_link": true
    },
    "kernelspec": {
      "name": "python3",
      "display_name": "Python 3"
    }
  },
  "cells": [
    {
      "cell_type": "markdown",
      "metadata": {
        "id": "view-in-github",
        "colab_type": "text"
      },
      "source": [
        "<a href=\"https://colab.research.google.com/github/elashgari/EEGNet/blob/master/Solution_HW7_part1.ipynb\" target=\"_parent\"><img src=\"https://colab.research.google.com/assets/colab-badge.svg\" alt=\"Open In Colab\"/></a>"
      ]
    },
    {
      "cell_type": "code",
      "metadata": {
        "id": "hhPcEvckq9Gm"
      },
      "source": [
        "import numpy as np\n",
        "import pandas as pd\n",
        "import matplotlib.pyplot as plt\n",
        "import statsmodels.api as sm"
      ],
      "execution_count": null,
      "outputs": []
    },
    {
      "cell_type": "code",
      "metadata": {
        "id": "fJ1hrGJFrQZF"
      },
      "source": [
        "# for reproducibility I stored the code on Github\n",
        "# so it would be at the same location everytime\n",
        "url = \"https://raw.githubusercontent.com/GregoryAlbarian/DataForCS530/main/Weekly.csv\"\n",
        "data = pd.read_csv(url)"
      ],
      "execution_count": null,
      "outputs": []
    },
    {
      "cell_type": "code",
      "metadata": {
        "id": "LcufPFT8rWc2",
        "colab": {
          "base_uri": "https://localhost:8080/",
          "height": 428
        },
        "outputId": "40f17982-ecb2-446f-a60e-8f0302d79372"
      },
      "source": [
        "# Question a)\n",
        "\n",
        "x_Year = data['Unnamed: 0']\n",
        "y_Today = data['Today']\n",
        "y_Yesterday = data['Lag1']\n",
        "y_BeforeYesterday = data['Lag2']\n",
        "y_Volume = data['Volume']\n",
        "y_Direction = data['Direction']\n",
        "\n",
        "\n",
        "figure, ax = plt.subplots(nrows = 2, ncols = 3)\n",
        "\n",
        "ax.ravel()[0].plot(x_Year, y_Today)\n",
        "ax.ravel()[0].set_title(\"Figure 1.\")\n",
        "ax.ravel()[0].set_axis_off()\n",
        "\n",
        "ax.ravel()[1].plot(x_Year, y_Volume)\n",
        "ax.ravel()[1].set_title(\"Figure 2.\")\n",
        "ax.ravel()[1].set_axis_off()\n",
        "\n",
        "ax.ravel()[2].hist(y_Today)\n",
        "ax.ravel()[2].set_title(\"Figure 3.\")\n",
        "ax.ravel()[2].set_axis_off()\n",
        "\n",
        "ax.ravel()[3].plot(y_Direction, y_Today)\n",
        "ax.ravel()[3].set_title(\"Figure 4.\")\n",
        "ax.ravel()[3].set_axis_off()\n",
        "\n",
        "ax.ravel()[4].plot(y_Direction, y_Yesterday)\n",
        "ax.ravel()[4].set_title(\"Figure 5.\")\n",
        "ax.ravel()[4].set_axis_off()\n",
        "\n",
        "ax.ravel()[5].plot(y_Direction, y_BeforeYesterday)\n",
        "ax.ravel()[5].set_title(\"Figure 6.\")\n",
        "ax.ravel()[5].set_axis_off()\n",
        "\n",
        "plt.tight_layout()\n",
        "plt.show()\n",
        "\n",
        "print(\n",
        "    \"Figure 1. Weekly change of stock value\",\n",
        "    \"Figure 2. Weekly stock volume\",\n",
        "    \"Figure 3. Histogram of weekly change of stock value\",\n",
        "    \"Figure 4. Weekly change of stock value against current direction\",\n",
        "    \"Figure 5. Weekly change of stock value shifted by a week against current direction\",\n",
        "    \"Figure 6. Weekly change of stock value shifted by a week against current direction\", sep = \"\\n\"\n",
        ")\n"
      ],
      "execution_count": null,
      "outputs": [
        {
          "output_type": "display_data",
          "data": {
            "image/png": "[encoded data removed]",
            "text/plain": [
              "<Figure size 432x288 with 6 Axes>"
            ]
          },
          "metadata": {
            "tags": [],
            "needs_background": "light"
          }
        },
        {
          "output_type": "stream",
          "text": [
            "Figure 1. Weekly change of stock value\n",
            "Figure 2. Weekly stock volume\n",
            "Figure 3. Histogram of weekly change of stock value\n",
            "Figure 4. Weekly change of stock value against current direction\n",
            "Figure 5. Weekly change of stock value shifted by a week against current direction\n",
            "Figure 6. Weekly change of stock value shifted by a week against current direction\n"
          ],
          "name": "stdout"
        }
      ]
    },
    {
      "cell_type": "markdown",
      "metadata": {
        "id": "09JYB_I1C_3h"
      },
      "source": [
        "Question a)\n",
        "\n",
        "In figure 1. we can see that there are periods with more change and periods with less change. This is interesting as it might reflect either natural fluctuations in the stock market or maybe some real world events. For instance, without knowing what this stock is, the massive fluctuation around 2008 might just reflect the financial crisis.\n",
        "\n",
        "In figure 2. we can see that volume typically increases, but again around 2008 the volume starts dropping which might be a result of the financial crisis.\n",
        "\n",
        "In figure 3. the histogram is centered around 0 indicating that stock has mostly retained its value over a 20 year period, the slight tilt to the right indicates that this stock has however slightly increased in value.\n",
        "\n",
        "In figure 4. the plot is trivial as Direction is generated by the sign of Today, there is thus a slope in the graph indicating that values for change were higher when the stock was going up than when the stock was going down.\n",
        "\n",
        "In figure 5. 6.\n",
        "Here by adding a delay of 1 week or 2 week we can see that the slope becomes flat. This is interesting as it indicates that the change from more than a week ago brings little information when considering the actual direction of the stock value"
      ]
    },
    {
      "cell_type": "code",
      "metadata": {
        "id": "ogHrA8tSsySz",
        "colab": {
          "base_uri": "https://localhost:8080/"
        },
        "outputId": "d497f312-4be2-43f6-9096-59d1830eeda3"
      },
      "source": [
        "# Question b)\n",
        "\n",
        "X = data[['Lag1','Lag2','Lag3','Lag4','Lag5','Volume']]\n",
        "X = sm.add_constant(X)\n",
        "Direction_temp = data[['Direction']]\n",
        "\n",
        "Direction = (Direction_temp == \"Up\")\n",
        "Direction = ~(Direction_temp == \"Down\")\n",
        "\n",
        "logit_mod = sm.Logit(Direction, X)\n",
        "logit_res = logit_mod.fit()\n",
        "print(logit_res.summary())"
      ],
      "execution_count": null,
      "outputs": [
        {
          "output_type": "stream",
          "text": [
            "Optimization terminated successfully.\n",
            "         Current function value: 0.682441\n",
            "         Iterations 4\n",
            "                           Logit Regression Results                           \n",
            "==============================================================================\n",
            "Dep. Variable:              Direction   No. Observations:                 1089\n",
            "Model:                          Logit   Df Residuals:                     1082\n",
            "Method:                           MLE   Df Model:                            6\n",
            "Date:                Sun, 28 Mar 2021   Pseudo R-squ.:                0.006580\n",
            "Time:                        07:34:32   Log-Likelihood:                -743.18\n",
            "converged:                       True   LL-Null:                       -748.10\n",
            "Covariance Type:            nonrobust   LLR p-value:                    0.1313\n",
            "==============================================================================\n",
            "                 coef    std err          z      P>|z|      [0.025      0.975]\n",
            "------------------------------------------------------------------------------\n",
            "const          0.2669      0.086      3.106      0.002       0.098       0.435\n",
            "Lag1          -0.0413      0.026     -1.563      0.118      -0.093       0.010\n",
            "Lag2           0.0584      0.027      2.175      0.030       0.006       0.111\n",
            "Lag3          -0.0161      0.027     -0.602      0.547      -0.068       0.036\n",
            "Lag4          -0.0278      0.026     -1.050      0.294      -0.080       0.024\n",
            "Lag5          -0.0145      0.026     -0.549      0.583      -0.066       0.037\n",
            "Volume        -0.0227      0.037     -0.616      0.538      -0.095       0.050\n",
            "==============================================================================\n"
          ],
          "name": "stdout"
        }
      ]
    },
    {
      "cell_type": "markdown",
      "metadata": {
        "id": "HCaX1XQzLnmH"
      },
      "source": [
        "Question b)\n",
        "\n",
        "Considering the initial overview in question a) we did not expect any of the lags to influence the current direction. However, Lag2 is a significant coefficient. This is odd because one would expect that if Lag2 matters then Lag1 should matter too. This could indicate that this stock reacts according to a mechanism that has a 2 weeks delay (or reaction time).\n",
        "No other coefficient is however significant which does confirm our expectations from question a). Further, the model is very poor with a Pseudo R-squared of 0.00658, indicating a poor fit."
      ]
    },
    {
      "cell_type": "markdown",
      "metadata": {
        "id": "uIqbkD7hhIJU"
      },
      "source": [
        "Question c)"
      ]
    },
    {
      "cell_type": "code",
      "metadata": {
        "id": "wTkPcjaGhdsD"
      },
      "source": [
        "from sklearn.metrics import confusion_matrix,  accuracy_score\n",
        "from sklearn.metrics import ConfusionMatrixDisplay"
      ],
      "execution_count": null,
      "outputs": []
    },
    {
      "cell_type": "code",
      "metadata": {
        "colab": {
          "base_uri": "https://localhost:8080/"
        },
        "id": "u67GGFqzqvyk",
        "outputId": "ab41c3ee-e620-4017-eec7-1b017c85bd1c"
      },
      "source": [
        "!pip install scikit-plot"
      ],
      "execution_count": null,
      "outputs": [
        {
          "output_type": "stream",
          "text": [
            "Requirement already satisfied: scikit-plot in /usr/local/lib/python3.7/dist-packages (0.3.7)\n",
            "Requirement already satisfied: joblib>=0.10 in /usr/local/lib/python3.7/dist-packages (from scikit-plot) (1.0.1)\n",
            "Requirement already satisfied: scipy>=0.9 in /usr/local/lib/python3.7/dist-packages (from scikit-plot) (1.4.1)\n",
            "Requirement already satisfied: scikit-learn>=0.18 in /usr/local/lib/python3.7/dist-packages (from scikit-plot) (0.22.2.post1)\n",
            "Requirement already satisfied: matplotlib>=1.4.0 in /usr/local/lib/python3.7/dist-packages (from scikit-plot) (3.2.2)\n",
            "Requirement already satisfied: numpy>=1.13.3 in /usr/local/lib/python3.7/dist-packages (from scipy>=0.9->scikit-plot) (1.19.5)\n",
            "Requirement already satisfied: cycler>=0.10 in /usr/local/lib/python3.7/dist-packages (from matplotlib>=1.4.0->scikit-plot) (0.10.0)\n",
            "Requirement already satisfied: pyparsing!=2.0.4,!=2.1.2,!=2.1.6,>=2.0.1 in /usr/local/lib/python3.7/dist-packages (from matplotlib>=1.4.0->scikit-plot) (2.4.7)\n",
            "Requirement already satisfied: kiwisolver>=1.0.1 in /usr/local/lib/python3.7/dist-packages (from matplotlib>=1.4.0->scikit-plot) (1.3.1)\n",
            "Requirement already satisfied: python-dateutil>=2.1 in /usr/local/lib/python3.7/dist-packages (from matplotlib>=1.4.0->scikit-plot) (2.8.1)\n",
            "Requirement already satisfied: six in /usr/local/lib/python3.7/dist-packages (from cycler>=0.10->matplotlib>=1.4.0->scikit-plot) (1.15.0)\n"
          ],
          "name": "stdout"
        }
      ]
    },
    {
      "cell_type": "code",
      "metadata": {
        "colab": {
          "base_uri": "https://localhost:8080/",
          "height": 352
        },
        "id": "2po71ltIp134",
        "outputId": "d08c0bf1-fcc1-4ed8-892a-72408796b5d3"
      },
      "source": [
        "import scikitplot as skplt\n",
        "import matplotlib.pyplot as plt\n",
        "\n",
        "y_true = Direction*1\n",
        "y_probas = logit_res.predict(X)\n",
        "y_probas = np.array((1-y_probas,y_probas)).T\n",
        "skplt.metrics.plot_roc_curve(y_true, y_probas)\n",
        "plt.show()"
      ],
      "execution_count": null,
      "outputs": [
        {
          "output_type": "stream",
          "text": [
            "/usr/local/lib/python3.7/dist-packages/sklearn/utils/deprecation.py:87: FutureWarning: Function plot_roc_curve is deprecated; This will be removed in v0.5.0. Please use scikitplot.metrics.plot_roc instead.\n",
            "  warnings.warn(msg, category=FutureWarning)\n"
          ],
          "name": "stderr"
        },
        {
          "output_type": "display_data",
          "data": {
            "image/png": "[encoded data removed]",
            "text/plain": [
              "<Figure size 432x288 with 1 Axes>"
            ]
          },
          "metadata": {
            "tags": [],
            "needs_background": "light"
          }
        }
      ]
    },
    {
      "cell_type": "code",
      "metadata": {
        "colab": {
          "base_uri": "https://localhost:8080/"
        },
        "id": "qEhBKiQ3hiWb",
        "outputId": "0ad2b15e-3479-430c-d029-20ef042dfad7"
      },
      "source": [
        "y_true = Direction*1\n",
        "y_pred = (logit_res.predict(X) <  0.682441)*1\n",
        "\n",
        "score  = accuracy_score(y_true,y_pred)\n",
        "\n",
        "con_matrix = pd.DataFrame(confusion_matrix(y_true, y_pred))\n",
        "\n",
        "con_matrix.columns = [\"P\",\"N\"]\n",
        "con_matrix.index = [\"P\",\"N\"]\n",
        "\n",
        "\n",
        "print(\"Confusion Matrix\")\n",
        "print(con_matrix)\n",
        "print(\"Score: \", score)\n"
      ],
      "execution_count": null,
      "outputs": [
        {
          "output_type": "stream",
          "text": [
            "Confusion Matrix\n",
            "   P    N\n",
            "P  2  482\n",
            "N  9  596\n",
            "Score:  0.549127640036731\n"
          ],
          "name": "stdout"
        }
      ]
    },
    {
      "cell_type": "markdown",
      "metadata": {
        "id": "Y6i6tkuiAzPQ"
      },
      "source": [
        "(d) Now fit the logistic-regression model using the data period from 1990 to 2008 as your training set, with Lag2 as the only predictor. Compute the confusion matrix and the overall fraction of correct predictions for the held out data (that is, the data from 2009 and 2010). Put these into the table."
      ]
    },
    {
      "cell_type": "code",
      "metadata": {
        "id": "Vs4chG1oCyHw",
        "colab": {
          "base_uri": "https://localhost:8080/"
        },
        "outputId": "afc2da2b-5122-4891-af66-51a43157344f"
      },
      "source": [
        "train = data[(data['Year'] >= 1990) & (data['Year'] <= 2008)]\n",
        "\n",
        "\n",
        "X = train['Lag2']\n",
        "X = sm.add_constant(X)\n",
        "Direction_temp = train['Direction']\n",
        "\n",
        "Direction = (Direction_temp == \"Up\")\n",
        "Direction = ~(Direction_temp == \"Down\")\n",
        "\n",
        "logit_mod = sm.Logit(Direction, X)\n",
        "logit_res = logit_mod.fit()\n",
        "print(logit_res.summary())"
      ],
      "execution_count": null,
      "outputs": [
        {
          "output_type": "stream",
          "text": [
            "Optimization terminated successfully.\n",
            "         Current function value: 0.685555\n",
            "         Iterations 4\n",
            "                           Logit Regression Results                           \n",
            "==============================================================================\n",
            "Dep. Variable:              Direction   No. Observations:                  985\n",
            "Model:                          Logit   Df Residuals:                      983\n",
            "Method:                           MLE   Df Model:                            1\n",
            "Date:                Sun, 28 Mar 2021   Pseudo R-squ.:                0.003076\n",
            "Time:                        07:34:36   Log-Likelihood:                -675.27\n",
            "converged:                       True   LL-Null:                       -677.35\n",
            "Covariance Type:            nonrobust   LLR p-value:                   0.04123\n",
            "==============================================================================\n",
            "                 coef    std err          z      P>|z|      [0.025      0.975]\n",
            "------------------------------------------------------------------------------\n",
            "const          0.2033      0.064      3.162      0.002       0.077       0.329\n",
            "Lag2           0.0581      0.029      2.024      0.043       0.002       0.114\n",
            "==============================================================================\n"
          ],
          "name": "stdout"
        }
      ]
    },
    {
      "cell_type": "code",
      "metadata": {
        "colab": {
          "base_uri": "https://localhost:8080/"
        },
        "id": "pbektpIuEp-E",
        "outputId": "3c909b2d-0f1a-4ba6-a9ca-539e397a4b34"
      },
      "source": [
        "#Get 2009-2010 Data\n",
        "test = data[data['Year']>2008]\n",
        "\n",
        "test_direction_temp = test['Direction']\n",
        "test_direction = (test_direction_temp == \"Up\")\n",
        "test_direction = ~(test_direction_temp == \"Down\")\n",
        "\n",
        "\n",
        "\n",
        "X_test = test['Lag2']\n",
        "X_test = sm.add_constant(X_test)\n",
        "\n",
        "#Predict on held out data using 1990-2008 model\n",
        "test_pred = (logit_res.predict(X_test) <  0.682441)*1\n",
        "\n",
        "test_true = test_direction*1\n",
        "\n",
        "\n",
        "score  = accuracy_score(test_true,test_pred)\n",
        "con_matrix = pd.DataFrame(confusion_matrix(test_true, test_pred))\n",
        "con_matrix.columns = [\"P\",\"N\"]\n",
        "con_matrix.index = [\"P\",\"N\"]\n",
        "\n",
        "\n",
        "print(\"Confusion Matrix\")\n",
        "print(con_matrix)\n",
        "print(\"Score: \", score)"
      ],
      "execution_count": null,
      "outputs": [
        {
          "output_type": "stream",
          "text": [
            "Confusion Matrix\n",
            "   P   N\n",
            "P  0  43\n",
            "N  1  60\n",
            "Score:  0.5769230769230769\n"
          ],
          "name": "stdout"
        }
      ]
    },
    {
      "cell_type": "markdown",
      "metadata": {
        "id": "FapZ-iZRA1iY"
      },
      "source": [
        "(e) Experiment with different combinations of predictors, including possible transformations and interactions, for each of the methods. Report the variables, method, and associated confusion matrix that appears to provide the best results. Remember that the best results should be tested on held-out data. \n"
      ]
    },
    {
      "cell_type": "code",
      "metadata": {
        "id": "YCIxqo19AyBK"
      },
      "source": [
        "from sklearn.linear_model import LogisticRegression\n",
        "from sklearn.model_selection import train_test_split\n",
        "\n",
        "def logistic_model_stocks (variables_used):\n",
        "  y_temp = data['Direction']\n",
        "  y = (y_temp == \"Up\")\n",
        "  y = ~(y_temp == \"Down\")\n",
        "\n",
        "  X = data[variables_used]\n",
        "\n",
        "  X_train, X_test, y_train, y_test = train_test_split(\n",
        "      X, y, test_size=0.33, random_state=42)\n",
        "\n",
        "  clf = LogisticRegression().fit(X_train, y_train)\n",
        "  y_predicted = clf.predict(X_test)\n",
        "\n",
        "\n",
        "  score  = accuracy_score(y_test, y_predicted)\n",
        "  con_matrix = pd.DataFrame(confusion_matrix(y_test, y_predicted))\n",
        "  con_matrix.columns = [\"P\",\"N\"]\n",
        "  con_matrix.index = [\"P\",\"N\"]\n",
        "\n",
        "  print(\"Confusion Matrix\")\n",
        "  print(con_matrix)\n",
        "  print(\"Score: \", score)\n"
      ],
      "execution_count": null,
      "outputs": []
    },
    {
      "cell_type": "code",
      "metadata": {
        "colab": {
          "base_uri": "https://localhost:8080/"
        },
        "id": "e6ALFPm-VPKZ",
        "outputId": "68593f42-9930-427a-c001-353e5e827d21"
      },
      "source": [
        "columns = ['Year', 'Lag1', 'Lag2', 'Lag3',\t'Lag4',\t'Lag5', 'Volume']\n",
        "logistic_model_stocks (columns)\n",
        "columns_used = \" \".join(columns)\n",
        "print(\"variables used: \", columns_used)"
      ],
      "execution_count": null,
      "outputs": [
        {
          "output_type": "stream",
          "text": [
            "Confusion Matrix\n",
            "    P    N\n",
            "P  30  121\n",
            "N  40  169\n",
            "Score:  0.5527777777777778\n",
            "variables used:  Year Lag1 Lag2 Lag3 Lag4 Lag5 Volume\n"
          ],
          "name": "stdout"
        }
      ]
    },
    {
      "cell_type": "code",
      "metadata": {
        "id": "JeJhd9kLdR4k",
        "colab": {
          "base_uri": "https://localhost:8080/"
        },
        "outputId": "cfeded1b-e97c-4e0a-d4f1-b5d5ddaf7be1"
      },
      "source": [
        "columns = ['Year', 'Lag2', 'Lag3',\t'Lag4',\t'Lag5', 'Volume']\n",
        "logistic_model_stocks (columns)\n",
        "columns_used = \" \".join(columns)\n",
        "print(\"variables used: \", columns_used)"
      ],
      "execution_count": null,
      "outputs": [
        {
          "output_type": "stream",
          "text": [
            "Confusion Matrix\n",
            "    P    N\n",
            "P  23  128\n",
            "N  30  179\n",
            "Score:  0.5611111111111111\n",
            "variables used:  Year Lag2 Lag3 Lag4 Lag5 Volume\n"
          ],
          "name": "stdout"
        }
      ]
    },
    {
      "cell_type": "code",
      "metadata": {
        "colab": {
          "base_uri": "https://localhost:8080/"
        },
        "id": "P9Cj1aVdwdow",
        "outputId": "30c203e8-fb22-4431-c449-d479d4c7b536"
      },
      "source": [
        "columns = ['Year', 'Lag1', 'Lag3',\t'Lag4',\t'Lag5', 'Volume']\n",
        "logistic_model_stocks (columns)\n",
        "columns_used = \" \".join(columns)\n",
        "print(\"variables used: \", columns_used)"
      ],
      "execution_count": null,
      "outputs": [
        {
          "output_type": "stream",
          "text": [
            "Confusion Matrix\n",
            "    P    N\n",
            "P  18  133\n",
            "N  34  175\n",
            "Score:  0.5361111111111111\n",
            "variables used:  Year Lag1 Lag3 Lag4 Lag5 Volume\n"
          ],
          "name": "stdout"
        }
      ]
    },
    {
      "cell_type": "code",
      "metadata": {
        "colab": {
          "base_uri": "https://localhost:8080/"
        },
        "id": "HLYExbnmwg1s",
        "outputId": "17376096-3f93-429b-8cc4-e4108ec874f9"
      },
      "source": [
        "columns = ['Year', 'Lag1', 'Lag2', 'Lag4',\t'Lag5', 'Volume']\n",
        "logistic_model_stocks (columns)\n",
        "columns_used = \" \".join(columns)\n",
        "print(\"variables used: \", columns_used)"
      ],
      "execution_count": null,
      "outputs": [
        {
          "output_type": "stream",
          "text": [
            "Confusion Matrix\n",
            "    P    N\n",
            "P  31  120\n",
            "N  42  167\n",
            "Score:  0.55\n",
            "variables used:  Year Lag1 Lag2 Lag4 Lag5 Volume\n"
          ],
          "name": "stdout"
        }
      ]
    },
    {
      "cell_type": "code",
      "metadata": {
        "colab": {
          "base_uri": "https://localhost:8080/"
        },
        "id": "HAorm6SuwkDl",
        "outputId": "0fd07b71-14b7-41e5-f18a-7a40c04a9680"
      },
      "source": [
        "columns = ['Year', 'Lag1',\t'Lag4',\t'Lag5', 'Volume']\n",
        "logistic_model_stocks (columns)\n",
        "columns_used = \" \".join(columns)\n",
        "print(\"variables used: \", columns_used)"
      ],
      "execution_count": null,
      "outputs": [
        {
          "output_type": "stream",
          "text": [
            "Confusion Matrix\n",
            "    P    N\n",
            "P  16  135\n",
            "N  27  182\n",
            "Score:  0.55\n",
            "variables used:  Year Lag1 Lag4 Lag5 Volume\n"
          ],
          "name": "stdout"
        }
      ]
    },
    {
      "cell_type": "code",
      "metadata": {
        "colab": {
          "base_uri": "https://localhost:8080/"
        },
        "id": "rWgRBSYRwqRg",
        "outputId": "30f51ecf-3a3e-43b0-fcc9-1840de485e58"
      },
      "source": [
        "columns = ['Year', 'Lag1', 'Lag2', 'Lag3', 'Volume']\n",
        "logistic_model_stocks (columns)\n",
        "columns_used = \" \".join(columns)\n",
        "print(\"variables used: \", columns_used)"
      ],
      "execution_count": null,
      "outputs": [
        {
          "output_type": "stream",
          "text": [
            "Confusion Matrix\n",
            "    P    N\n",
            "P  29  122\n",
            "N  32  177\n",
            "Score:  0.5722222222222222\n",
            "variables used:  Year Lag1 Lag2 Lag3 Volume\n"
          ],
          "name": "stdout"
        }
      ]
    },
    {
      "cell_type": "markdown",
      "metadata": {
        "id": "TsfLAXoSxEPF"
      },
      "source": [
        "The last one I did produced the best results. The variables I used were Year, Lag1, Lag2, Lag3, and Volume. The tests in  part 2 were close in accuracy between with all between 50 and 60 per cent accuracy."
      ]
    },
    {
      "cell_type": "code",
      "metadata": {
        "id": "zbs3nhRKxcWp"
      },
      "source": [
        ""
      ],
      "execution_count": null,
      "outputs": []
    }
  ]
}