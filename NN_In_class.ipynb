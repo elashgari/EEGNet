{
  "nbformat": 4,
  "nbformat_minor": 0,
  "metadata": {
    "colab": {
      "name": "NN-In class.ipynb",
      "provenance": [],
      "collapsed_sections": [],
      "authorship_tag": "ABX9TyPCN3XvbKy7sB728CNmfzui",
      "include_colab_link": true
    },
    "kernelspec": {
      "name": "python3",
      "display_name": "Python 3"
    },
    "language_info": {
      "name": "python"
    }
  },
  "cells": [
    {
      "cell_type": "markdown",
      "metadata": {
        "id": "view-in-github",
        "colab_type": "text"
      },
      "source": [
        "<a href=\"https://colab.research.google.com/github/elashgari/EEGNet/blob/master/NN_In_class.ipynb\" target=\"_parent\"><img src=\"https://colab.research.google.com/assets/colab-badge.svg\" alt=\"Open In Colab\"/></a>"
      ]
    },
    {
      "cell_type": "markdown",
      "metadata": {
        "id": "lcSQ_spx_sYs"
      },
      "source": [
        "In this example, you will implement a perceptron and test in on linearly seperable and inseperable datasets.\n",
        "\n",
        "\n"
      ]
    },
    {
      "cell_type": "markdown",
      "metadata": {
        "id": "Sy9pqJe-8bkT"
      },
      "source": [
        "(a) Implement a perceptron. \n",
        "\n",
        "<img src=\"https://miro.medium.com/max/1400/1*hm-Whb2f2dgObJuEoCuCAQ.png\" width=\"500px\" height=\"auto\">\n"
      ]
    },
    {
      "cell_type": "code",
      "metadata": {
        "id": "LvUtz5vS8fVk"
      },
      "source": [
        "# Your code here\n",
        "\n",
        "def unit_step(v):\n",
        "\n",
        "\t\n",
        "def perceptron(x, w, b):\n",
        "\n",
        "\treturn y"
      ],
      "execution_count": null,
      "outputs": []
    },
    {
      "cell_type": "markdown",
      "metadata": {
        "id": "-DG_pjtw8g_2"
      },
      "source": [
        "(b) Can a perceptron implement the AND and OR logical function?\n",
        "Plot the separator and \\vec{w} on one of this logical function in the google doc\n",
        "\n",
        "\n",
        "<image src = 'https://i.stack.imgur.com/SRPDx.gif'>"
      ]
    },
    {
      "cell_type": "code",
      "metadata": {
        "id": "_GXDElqL8j5C"
      },
      "source": [
        "# Your code here"
      ],
      "execution_count": null,
      "outputs": []
    },
    {
      "cell_type": "markdown",
      "metadata": {
        "id": "2cwo9pfA8ktN"
      },
      "source": [
        "(c) Can a perceptron implement the XOR logical function?\n",
        "Show that the separator keeps moving after 1000 iterations.\n",
        "\n",
        "<img src=\"https://lh3.googleusercontent.com/proxy/U7sO2GsaMxTAxEZoxXX0pUcG-sSXwdRGqXOVMpH5scR3cxDXu0eWCRtoJZDbGSm1CvtzV2UWqBNX-upVEExwqG4jycgDTxEbJ4zceYGM4bBvmvq0xFQETTbjHso\">"
      ]
    },
    {
      "cell_type": "markdown",
      "metadata": {
        "id": "XPT4upfTC5FP"
      },
      "source": [
        "d) What could be done to have the perceptron at least converge, even if not to a solution (i.e., so that it does not keep rotating around)."
      ]
    },
    {
      "cell_type": "code",
      "metadata": {
        "id": "dFZXVG2CDCte"
      },
      "source": [
        ""
      ],
      "execution_count": null,
      "outputs": []
    }
  ]
}